{
 "cells": [
  {
   "cell_type": "markdown",
   "metadata": {},
   "source": [
    "# Yanolja 리뷰 크롤링 및 분석\n",
    "\n",
    "이번 노트북에서는 Selenium을 사용하여 Yanolja의 호텔 리뷰 페이지에서 데이터를 크롤링하고, 수집한 데이터에 대해 분석을 진행합니다. 이 과정에서는 웹페이지 로드, 데이터 추출, 텍스트 처리 및 분석 결과를 Excel 파일로 저장하는 작업을 포함합니다."
   ]
  },
  {
   "cell_type": "markdown",
   "metadata": {},
   "source": [
    "### 1단계: Selenium으로 웹페이지 로드\n",
    "\n",
    "Selenium을 사용하여 Yanolja 리뷰 페이지를 로드하고, 스크롤을 내려서 더 많은 데이터를 가져옵니다."
   ]
  },
  {
   "cell_type": "code",
   "execution_count": 2,
   "metadata": {},
   "outputs": [
    {
     "name": "stdout",
     "output_type": "stream",
     "text": [
      "Collecting selenium\n",
      "  Downloading selenium-4.35.0-py3-none-any.whl.metadata (7.4 kB)\n",
      "Requirement already satisfied: urllib3<3.0,>=2.5.0 in c:\\users\\yunji\\anaconda3\\envs\\myenv\\lib\\site-packages (from urllib3[socks]<3.0,>=2.5.0->selenium) (2.5.0)\n",
      "Collecting trio~=0.30.0 (from selenium)\n",
      "  Downloading trio-0.30.0-py3-none-any.whl.metadata (8.5 kB)\n",
      "Collecting trio-websocket~=0.12.2 (from selenium)\n",
      "  Downloading trio_websocket-0.12.2-py3-none-any.whl.metadata (5.1 kB)\n",
      "Requirement already satisfied: certifi>=2025.6.15 in c:\\users\\yunji\\anaconda3\\envs\\myenv\\lib\\site-packages (from selenium) (2025.8.3)\n",
      "Collecting typing_extensions~=4.14.0 (from selenium)\n",
      "  Downloading typing_extensions-4.14.1-py3-none-any.whl.metadata (3.0 kB)\n",
      "Collecting websocket-client~=1.8.0 (from selenium)\n",
      "  Downloading websocket_client-1.8.0-py3-none-any.whl.metadata (8.0 kB)\n",
      "Collecting attrs>=23.2.0 (from trio~=0.30.0->selenium)\n",
      "  Downloading attrs-25.3.0-py3-none-any.whl.metadata (10 kB)\n",
      "Collecting sortedcontainers (from trio~=0.30.0->selenium)\n",
      "  Downloading sortedcontainers-2.4.0-py2.py3-none-any.whl.metadata (10 kB)\n",
      "Requirement already satisfied: idna in c:\\users\\yunji\\anaconda3\\envs\\myenv\\lib\\site-packages (from trio~=0.30.0->selenium) (3.10)\n",
      "Collecting outcome (from trio~=0.30.0->selenium)\n",
      "  Downloading outcome-1.3.0.post0-py2.py3-none-any.whl.metadata (2.6 kB)\n",
      "Requirement already satisfied: sniffio>=1.3.0 in c:\\users\\yunji\\anaconda3\\envs\\myenv\\lib\\site-packages (from trio~=0.30.0->selenium) (1.3.1)\n",
      "Collecting cffi>=1.14 (from trio~=0.30.0->selenium)\n",
      "  Downloading cffi-2.0.0-cp310-cp310-win_amd64.whl.metadata (2.6 kB)\n",
      "Requirement already satisfied: exceptiongroup in c:\\users\\yunji\\anaconda3\\envs\\myenv\\lib\\site-packages (from trio~=0.30.0->selenium) (1.3.0)\n",
      "Collecting wsproto>=0.14 (from trio-websocket~=0.12.2->selenium)\n",
      "  Downloading wsproto-1.2.0-py3-none-any.whl.metadata (5.6 kB)\n",
      "Collecting pysocks!=1.5.7,<2.0,>=1.5.6 (from urllib3[socks]<3.0,>=2.5.0->selenium)\n",
      "  Downloading PySocks-1.7.1-py3-none-any.whl.metadata (13 kB)\n",
      "Collecting pycparser (from cffi>=1.14->trio~=0.30.0->selenium)\n",
      "  Downloading pycparser-2.23-py3-none-any.whl.metadata (993 bytes)\n",
      "Requirement already satisfied: h11<1,>=0.9.0 in c:\\users\\yunji\\anaconda3\\envs\\myenv\\lib\\site-packages (from wsproto>=0.14->trio-websocket~=0.12.2->selenium) (0.16.0)\n",
      "Downloading selenium-4.35.0-py3-none-any.whl (9.6 MB)\n",
      "   ---------------------------------------- 0.0/9.6 MB ? eta -:--:--\n",
      "   ---------------------------------------- 0.0/9.6 MB ? eta -:--:--\n",
      "   -- ------------------------------------- 0.5/9.6 MB 1.9 MB/s eta 0:00:05\n",
      "   ---- ----------------------------------- 1.0/9.6 MB 2.3 MB/s eta 0:00:04\n",
      "   ------- -------------------------------- 1.8/9.6 MB 2.7 MB/s eta 0:00:03\n",
      "   -------- ------------------------------- 2.1/9.6 MB 2.3 MB/s eta 0:00:04\n",
      "   --------- ------------------------------ 2.4/9.6 MB 2.1 MB/s eta 0:00:04\n",
      "   --------- ------------------------------ 2.4/9.6 MB 2.1 MB/s eta 0:00:04\n",
      "   ------------ --------------------------- 2.9/9.6 MB 1.8 MB/s eta 0:00:04\n",
      "   ------------- -------------------------- 3.1/9.6 MB 1.8 MB/s eta 0:00:04\n",
      "   ------------- -------------------------- 3.1/9.6 MB 1.8 MB/s eta 0:00:04\n",
      "   -------------- ------------------------- 3.4/9.6 MB 1.6 MB/s eta 0:00:04\n",
      "   --------------- ------------------------ 3.7/9.6 MB 1.5 MB/s eta 0:00:04\n",
      "   ---------------- ----------------------- 3.9/9.6 MB 1.5 MB/s eta 0:00:04\n",
      "   ----------------- ---------------------- 4.2/9.6 MB 1.5 MB/s eta 0:00:04\n",
      "   ----------------- ---------------------- 4.2/9.6 MB 1.5 MB/s eta 0:00:04\n",
      "   ------------------ --------------------- 4.5/9.6 MB 1.4 MB/s eta 0:00:04\n",
      "   ------------------ --------------------- 4.5/9.6 MB 1.4 MB/s eta 0:00:04\n",
      "   ------------------ --------------------- 4.5/9.6 MB 1.4 MB/s eta 0:00:04\n",
      "   ------------------ --------------------- 4.5/9.6 MB 1.4 MB/s eta 0:00:04\n",
      "   ------------------- -------------------- 4.7/9.6 MB 1.2 MB/s eta 0:00:05\n",
      "   ------------------- -------------------- 4.7/9.6 MB 1.2 MB/s eta 0:00:05\n",
      "   ------------------- -------------------- 4.7/9.6 MB 1.2 MB/s eta 0:00:05\n",
      "   ------------------- -------------------- 4.7/9.6 MB 1.2 MB/s eta 0:00:05\n",
      "   ------------------- -------------------- 4.7/9.6 MB 1.2 MB/s eta 0:00:05\n",
      "   ------------------- -------------------- 4.7/9.6 MB 1.2 MB/s eta 0:00:05\n",
      "   ------------------- -------------------- 4.7/9.6 MB 1.2 MB/s eta 0:00:05\n",
      "   ------------------- -------------------- 4.7/9.6 MB 1.2 MB/s eta 0:00:05\n",
      "   ------------------- -------------------- 4.7/9.6 MB 1.2 MB/s eta 0:00:05\n",
      "   ------------------- -------------------- 4.7/9.6 MB 1.2 MB/s eta 0:00:05\n",
      "   ------------------- -------------------- 4.7/9.6 MB 1.2 MB/s eta 0:00:05\n",
      "   ------------------- -------------------- 4.7/9.6 MB 1.2 MB/s eta 0:00:05\n",
      "   ------------------- -------------------- 4.7/9.6 MB 1.2 MB/s eta 0:00:05\n",
      "   ------------------- -------------------- 4.7/9.6 MB 1.2 MB/s eta 0:00:05\n",
      "   ------------------- -------------------- 4.7/9.6 MB 1.2 MB/s eta 0:00:05\n",
      "   ------------------- -------------------- 4.7/9.6 MB 1.2 MB/s eta 0:00:05\n",
      "   ------------------- -------------------- 4.7/9.6 MB 1.2 MB/s eta 0:00:05\n",
      "   ------------------- -------------------- 4.7/9.6 MB 1.2 MB/s eta 0:00:05\n",
      "   ------------------- -------------------- 4.7/9.6 MB 1.2 MB/s eta 0:00:05\n",
      "   ------------------- -------------------- 4.7/9.6 MB 1.2 MB/s eta 0:00:05\n",
      "   ------------------- -------------------- 4.7/9.6 MB 1.2 MB/s eta 0:00:05\n",
      "   ------------------- -------------------- 4.7/9.6 MB 1.2 MB/s eta 0:00:05\n",
      "   ------------------- -------------------- 4.7/9.6 MB 1.2 MB/s eta 0:00:05\n",
      "   ------------------- -------------------- 4.7/9.6 MB 1.2 MB/s eta 0:00:05\n",
      "   ------------------- -------------------- 4.7/9.6 MB 1.2 MB/s eta 0:00:05\n",
      "   ------------------- -------------------- 4.7/9.6 MB 1.2 MB/s eta 0:00:05\n",
      "   ------------------- -------------------- 4.7/9.6 MB 1.2 MB/s eta 0:00:05\n",
      "   ------------------- -------------------- 4.7/9.6 MB 1.2 MB/s eta 0:00:05\n",
      "   ------------------- -------------------- 4.7/9.6 MB 1.2 MB/s eta 0:00:05\n",
      "   ------------------- -------------------- 4.7/9.6 MB 1.2 MB/s eta 0:00:05\n",
      "   ------------------- -------------------- 4.7/9.6 MB 1.2 MB/s eta 0:00:05\n",
      "   -------------------- ------------------- 5.0/9.6 MB 447.4 kB/s eta 0:00:11\n",
      "   -------------------- ------------------- 5.0/9.6 MB 447.4 kB/s eta 0:00:11\n",
      "   -------------------- ------------------- 5.0/9.6 MB 447.4 kB/s eta 0:00:11\n",
      "   -------------------- ------------------- 5.0/9.6 MB 447.4 kB/s eta 0:00:11\n",
      "   -------------------- ------------------- 5.0/9.6 MB 447.4 kB/s eta 0:00:11\n",
      "   -------------------- ------------------- 5.0/9.6 MB 447.4 kB/s eta 0:00:11\n",
      "   -------------------- ------------------- 5.0/9.6 MB 447.4 kB/s eta 0:00:11\n",
      "   -------------------- ------------------- 5.0/9.6 MB 447.4 kB/s eta 0:00:11\n",
      "   -------------------- ------------------- 5.0/9.6 MB 447.4 kB/s eta 0:00:11\n",
      "   -------------------- ------------------- 5.0/9.6 MB 447.4 kB/s eta 0:00:11\n",
      "   -------------------- ------------------- 5.0/9.6 MB 447.4 kB/s eta 0:00:11\n",
      "   -------------------- ------------------- 5.0/9.6 MB 447.4 kB/s eta 0:00:11\n",
      "   -------------------- ------------------- 5.0/9.6 MB 447.4 kB/s eta 0:00:11\n",
      "   -------------------- ------------------- 5.0/9.6 MB 447.4 kB/s eta 0:00:11\n",
      "   -------------------- ------------------- 5.0/9.6 MB 447.4 kB/s eta 0:00:11\n",
      "   -------------------- ------------------- 5.0/9.6 MB 447.4 kB/s eta 0:00:11\n",
      "   -------------------- ------------------- 5.0/9.6 MB 447.4 kB/s eta 0:00:11\n",
      "   -------------------- ------------------- 5.0/9.6 MB 447.4 kB/s eta 0:00:11\n",
      "   -------------------- ------------------- 5.0/9.6 MB 447.4 kB/s eta 0:00:11\n",
      "   -------------------- ------------------- 5.0/9.6 MB 447.4 kB/s eta 0:00:11\n",
      "   -------------------- ------------------- 5.0/9.6 MB 447.4 kB/s eta 0:00:11\n",
      "   -------------------- ------------------- 5.0/9.6 MB 447.4 kB/s eta 0:00:11\n",
      "   -------------------- ------------------- 5.0/9.6 MB 447.4 kB/s eta 0:00:11\n",
      "   -------------------- ------------------- 5.0/9.6 MB 447.4 kB/s eta 0:00:11\n",
      "   -------------------- ------------------- 5.0/9.6 MB 447.4 kB/s eta 0:00:11\n",
      "   -------------------- ------------------- 5.0/9.6 MB 447.4 kB/s eta 0:00:11\n",
      "   -------------------- ------------------- 5.0/9.6 MB 447.4 kB/s eta 0:00:11\n",
      "   --------------------- ------------------ 5.2/9.6 MB 305.9 kB/s eta 0:00:15\n",
      "   ---------------------- ----------------- 5.5/9.6 MB 316.8 kB/s eta 0:00:13\n",
      "   ---------------------- ----------------- 5.5/9.6 MB 316.8 kB/s eta 0:00:13\n",
      "   ------------------------ --------------- 5.8/9.6 MB 324.4 kB/s eta 0:00:12\n",
      "   ------------------------ --------------- 5.8/9.6 MB 324.4 kB/s eta 0:00:12\n",
      "   ------------------------ --------------- 5.8/9.6 MB 324.4 kB/s eta 0:00:12\n",
      "   ------------------------ --------------- 5.8/9.6 MB 324.4 kB/s eta 0:00:12\n",
      "   ------------------------ --------------- 5.8/9.6 MB 324.4 kB/s eta 0:00:12\n",
      "   ------------------------ --------------- 5.8/9.6 MB 324.4 kB/s eta 0:00:12\n",
      "   ------------------------- -------------- 6.0/9.6 MB 318.5 kB/s eta 0:00:12\n",
      "   ------------------------- -------------- 6.0/9.6 MB 318.5 kB/s eta 0:00:12\n",
      "   ------------------------- -------------- 6.0/9.6 MB 318.5 kB/s eta 0:00:12\n",
      "   ------------------------- -------------- 6.0/9.6 MB 318.5 kB/s eta 0:00:12\n",
      "   -------------------------- ------------- 6.3/9.6 MB 317.3 kB/s eta 0:00:11\n",
      "   --------------------------- ------------ 6.6/9.6 MB 327.4 kB/s eta 0:00:10\n",
      "   ---------------------------- ----------- 6.8/9.6 MB 335.5 kB/s eta 0:00:09\n",
      "   ---------------------------- ----------- 6.8/9.6 MB 335.5 kB/s eta 0:00:09\n",
      "   ----------------------------- ---------- 7.1/9.6 MB 342.9 kB/s eta 0:00:08\n",
      "   ------------------------------- -------- 7.6/9.6 MB 363.9 kB/s eta 0:00:06\n",
      "   -------------------------------- ------- 7.9/9.6 MB 372.8 kB/s eta 0:00:05\n",
      "   --------------------------------- ------ 8.1/9.6 MB 384.2 kB/s eta 0:00:04\n",
      "   --------------------------------- ------ 8.1/9.6 MB 384.2 kB/s eta 0:00:04\n",
      "   ---------------------------------- ----- 8.4/9.6 MB 387.0 kB/s eta 0:00:04\n",
      "   ------------------------------------ --- 8.7/9.6 MB 397.7 kB/s eta 0:00:03\n",
      "   ------------------------------------- -- 8.9/9.6 MB 403.5 kB/s eta 0:00:02\n",
      "   ------------------------------------- -- 8.9/9.6 MB 403.5 kB/s eta 0:00:02\n",
      "   ------------------------------------- -- 8.9/9.6 MB 403.5 kB/s eta 0:00:02\n",
      "   ---------------------------------------  9.4/9.6 MB 416.8 kB/s eta 0:00:01\n",
      "   ---------------------------------------  9.4/9.6 MB 416.8 kB/s eta 0:00:01\n",
      "   ---------------------------------------- 9.6/9.6 MB 415.4 kB/s  0:00:22\n",
      "Downloading trio-0.30.0-py3-none-any.whl (499 kB)\n",
      "Downloading trio_websocket-0.12.2-py3-none-any.whl (21 kB)\n",
      "Downloading typing_extensions-4.14.1-py3-none-any.whl (43 kB)\n",
      "Downloading PySocks-1.7.1-py3-none-any.whl (16 kB)\n",
      "Downloading websocket_client-1.8.0-py3-none-any.whl (58 kB)\n",
      "Downloading attrs-25.3.0-py3-none-any.whl (63 kB)\n",
      "Downloading cffi-2.0.0-cp310-cp310-win_amd64.whl (182 kB)\n",
      "Downloading outcome-1.3.0.post0-py2.py3-none-any.whl (10 kB)\n",
      "Downloading wsproto-1.2.0-py3-none-any.whl (24 kB)\n",
      "Downloading pycparser-2.23-py3-none-any.whl (118 kB)\n",
      "Downloading sortedcontainers-2.4.0-py2.py3-none-any.whl (29 kB)\n",
      "Installing collected packages: sortedcontainers, wsproto, websocket-client, typing_extensions, pysocks, pycparser, attrs, outcome, cffi, trio, trio-websocket, selenium\n",
      "\n",
      "   ------ ---------------------------------  2/12 [websocket-client]\n",
      "  Attempting uninstall: typing_extensions\n",
      "   ------ ---------------------------------  2/12 [websocket-client]\n",
      "    Found existing installation: typing_extensions 4.15.0\n",
      "   ------ ---------------------------------  2/12 [websocket-client]\n",
      "    Uninstalling typing_extensions-4.15.0:\n",
      "   ------ ---------------------------------  2/12 [websocket-client]\n",
      "   ---------- -----------------------------  3/12 [typing_extensions]\n",
      "   ---------- -----------------------------  3/12 [typing_extensions]\n",
      "   ---------- -----------------------------  3/12 [typing_extensions]\n",
      "   ---------- -----------------------------  3/12 [typing_extensions]\n",
      "   ---------- -----------------------------  3/12 [typing_extensions]\n",
      "      Successfully uninstalled typing_extensions-4.15.0\n",
      "   ---------- -----------------------------  3/12 [typing_extensions]\n",
      "   ---------------- -----------------------  5/12 [pycparser]\n",
      "   -------------------- -------------------  6/12 [attrs]\n",
      "   -------------------------- -------------  8/12 [cffi]\n",
      "   ------------------------------ ---------  9/12 [trio]\n",
      "   ------------------------------ ---------  9/12 [trio]\n",
      "   ------------------------------ ---------  9/12 [trio]\n",
      "   ------------------------------ ---------  9/12 [trio]\n",
      "   ------------------------------ ---------  9/12 [trio]\n",
      "   ------------------------------ ---------  9/12 [trio]\n",
      "   ------------------------------------ --- 11/12 [selenium]\n",
      "   ------------------------------------ --- 11/12 [selenium]\n",
      "   ------------------------------------ --- 11/12 [selenium]\n",
      "   ------------------------------------ --- 11/12 [selenium]\n",
      "   ------------------------------------ --- 11/12 [selenium]\n",
      "   ------------------------------------ --- 11/12 [selenium]\n",
      "   ------------------------------------ --- 11/12 [selenium]\n",
      "   ------------------------------------ --- 11/12 [selenium]\n",
      "   ------------------------------------ --- 11/12 [selenium]\n",
      "   ------------------------------------ --- 11/12 [selenium]\n",
      "   ------------------------------------ --- 11/12 [selenium]\n",
      "   ------------------------------------ --- 11/12 [selenium]\n",
      "   ------------------------------------ --- 11/12 [selenium]\n",
      "   ---------------------------------------- 12/12 [selenium]\n",
      "\n",
      "Successfully installed attrs-25.3.0 cffi-2.0.0 outcome-1.3.0.post0 pycparser-2.23 pysocks-1.7.1 selenium-4.35.0 sortedcontainers-2.4.0 trio-0.30.0 trio-websocket-0.12.2 typing_extensions-4.14.1 websocket-client-1.8.0 wsproto-1.2.0\n",
      "Requirement already satisfied: bs4 in c:\\users\\yunji\\anaconda3\\envs\\myenv\\lib\\site-packages (0.0.2)\n",
      "Requirement already satisfied: beautifulsoup4 in c:\\users\\yunji\\anaconda3\\envs\\myenv\\lib\\site-packages (from bs4) (4.13.5)\n",
      "Requirement already satisfied: soupsieve>1.2 in c:\\users\\yunji\\anaconda3\\envs\\myenv\\lib\\site-packages (from beautifulsoup4->bs4) (2.8)\n",
      "Requirement already satisfied: typing-extensions>=4.0.0 in c:\\users\\yunji\\anaconda3\\envs\\myenv\\lib\\site-packages (from beautifulsoup4->bs4) (4.14.1)\n",
      "Requirement already satisfied: pandas in c:\\users\\yunji\\anaconda3\\envs\\myenv\\lib\\site-packages (2.3.2)\n",
      "Requirement already satisfied: numpy>=1.22.4 in c:\\users\\yunji\\anaconda3\\envs\\myenv\\lib\\site-packages (from pandas) (2.2.6)\n",
      "Requirement already satisfied: python-dateutil>=2.8.2 in c:\\users\\yunji\\anaconda3\\envs\\myenv\\lib\\site-packages (from pandas) (2.9.0.post0)\n",
      "Requirement already satisfied: pytz>=2020.1 in c:\\users\\yunji\\anaconda3\\envs\\myenv\\lib\\site-packages (from pandas) (2025.2)\n",
      "Requirement already satisfied: tzdata>=2022.7 in c:\\users\\yunji\\anaconda3\\envs\\myenv\\lib\\site-packages (from pandas) (2025.2)\n",
      "Requirement already satisfied: six>=1.5 in c:\\users\\yunji\\anaconda3\\envs\\myenv\\lib\\site-packages (from python-dateutil>=2.8.2->pandas) (1.17.0)\n",
      "Requirement already satisfied: openpyxl in c:\\users\\yunji\\anaconda3\\envs\\myenv\\lib\\site-packages (3.1.5)\n",
      "Requirement already satisfied: et-xmlfile in c:\\users\\yunji\\anaconda3\\envs\\myenv\\lib\\site-packages (from openpyxl) (2.0.0)\n"
     ]
    }
   ],
   "source": [
    "!pip install selenium\n",
    "!pip install bs4\n",
    "!pip install pandas\n",
    "!pip install openpyxl"
   ]
  },
  {
   "cell_type": "code",
   "execution_count": 9,
   "metadata": {},
   "outputs": [
    {
     "ename": "NameError",
     "evalue": "name 'Webdriver' is not defined",
     "output_type": "error",
     "traceback": [
      "\u001b[1;31m---------------------------------------------------------------------------\u001b[0m",
      "\u001b[1;31mNameError\u001b[0m                                 Traceback (most recent call last)",
      "Cell \u001b[1;32mIn[9], line 6\u001b[0m\n\u001b[0;32m      3\u001b[0m \u001b[38;5;28;01mimport\u001b[39;00m\u001b[38;5;250m \u001b[39m\u001b[38;5;21;01mtime\u001b[39;00m\n\u001b[0;32m      5\u001b[0m \u001b[38;5;66;03m# Selenium 드라이버 설정 (Chrome 사용)\u001b[39;00m\n\u001b[1;32m----> 6\u001b[0m driver \u001b[38;5;241m=\u001b[39m \u001b[43mWebdriver\u001b[49m\u001b[38;5;241m.\u001b[39mChrome\n\u001b[0;32m      8\u001b[0m \u001b[38;5;66;03m# Yanolja 리뷰 페이지로 이동\u001b[39;00m\n\u001b[0;32m      9\u001b[0m url \u001b[38;5;241m=\u001b[39m \u001b[38;5;124m'\u001b[39m\u001b[38;5;124mhttps://www.yanolja.com/reviews/domestic/10041505\u001b[39m\u001b[38;5;124m'\u001b[39m\n",
      "\u001b[1;31mNameError\u001b[0m: name 'Webdriver' is not defined"
     ]
    }
   ],
   "source": [
    "from selenium import webdriver\n",
    "from selenium.webdriver.common.by import By\n",
    "import time\n",
    "\n",
    "# Selenium 드라이버 설정 (Chrome 사용)\n",
    "driver = Webdriver.Chrome\n",
    "\n",
    "# Yanolja 리뷰 페이지로 이동\n",
    "url = 'https://www.yanolja.com/reviews/domestic/10041505'\n",
    "######## your code here ########\n",
    "driver.get(url)\n",
    "# 페이지 로딩을 위해 대기\n",
    "time.sleep(3)\n",
    "\n",
    "# 스크롤 설정: 페이지 하단까지 스크롤을 내리기\n",
    "elements = driver.find_elements(By.CLASS_NAME, 'dynamic-class')\n",
    "scroll_count = 10  # 스크롤 횟수 설정\n",
    "for idx, element in range(scroll_count):\n",
    "    ######## your code here ########\n",
    "    print(f\"{idx}. {element.text}\")\n",
    "    \n",
    "    time.sleep(1)  # 스크롤 이후 대기"
   ]
  },
  {
   "cell_type": "markdown",
   "metadata": {},
   "source": [
    "### 2단계: 페이지 소스 가져오기\n",
    "웹페이지의 HTML 소스를 가져와서 BeautifulSoup을 사용해 데이터를 파싱합니다."
   ]
  },
  {
   "cell_type": "code",
   "execution_count": 4,
   "metadata": {},
   "outputs": [
    {
     "ename": "NameError",
     "evalue": "name 'driver' is not defined",
     "output_type": "error",
     "traceback": [
      "\u001b[1;31m---------------------------------------------------------------------------\u001b[0m",
      "\u001b[1;31mNameError\u001b[0m                                 Traceback (most recent call last)",
      "Cell \u001b[1;32mIn[4], line 4\u001b[0m\n\u001b[0;32m      1\u001b[0m \u001b[38;5;28;01mfrom\u001b[39;00m\u001b[38;5;250m \u001b[39m\u001b[38;5;21;01mbs4\u001b[39;00m\u001b[38;5;250m \u001b[39m\u001b[38;5;28;01mimport\u001b[39;00m BeautifulSoup\n\u001b[0;32m      3\u001b[0m \u001b[38;5;66;03m# 웹페이지 소스 가져오기\u001b[39;00m\n\u001b[1;32m----> 4\u001b[0m page_source \u001b[38;5;241m=\u001b[39m \u001b[43mdriver\u001b[49m\u001b[38;5;241m.\u001b[39mpage_source\n\u001b[0;32m      6\u001b[0m \u001b[38;5;66;03m# BeautifulSoup를 사용하여 HTML 파싱\u001b[39;00m\n\u001b[0;32m      7\u001b[0m soup \u001b[38;5;241m=\u001b[39m BeautifulSoup(page_source, \u001b[38;5;124m'\u001b[39m\u001b[38;5;124mhtml.parser\u001b[39m\u001b[38;5;124m'\u001b[39m)\n",
      "\u001b[1;31mNameError\u001b[0m: name 'driver' is not defined"
     ]
    }
   ],
   "source": [
    "from bs4 import BeautifulSoup\n",
    "\n",
    "# 웹페이지 소스 가져오기\n",
    "page_source = driver.page_source\n",
    "\n",
    "# BeautifulSoup를 사용하여 HTML 파싱\n",
    "soup = BeautifulSoup(page_source, 'html.parser')"
   ]
  },
  {
   "cell_type": "markdown",
   "metadata": {},
   "source": [
    "### 3단계: 리뷰 텍스트 추출\n",
    "리뷰 텍스트를 추출하고 불필요한 공백이나 줄 바꿈을 제거합니다."
   ]
  },
  {
   "cell_type": "code",
   "execution_count": null,
   "metadata": {},
   "outputs": [],
   "source": [
    "# 리뷰 텍스트 추출\n",
    "################################\n",
    "# reviews_class = \n",
    "################################\n",
    "reviews = []\n",
    "\n",
    "# 각 리뷰 텍스트 정리 후 추가\n",
    "for review in reviews_class:\n",
    "    cleaned_text = review.get_text(strip=True).replace('\\r', '').replace('\\n', '')\n",
    "    reviews.append(cleaned_text)\n",
    "\n",
    "reviews"
   ]
  },
  {
   "cell_type": "markdown",
   "metadata": {},
   "source": [
    "### 4단계: 별점 데이터 추출\n",
    "HTML에서 별점 데이터를 추출하고, 각 리뷰의 별점을 계산합니다."
   ]
  },
  {
   "cell_type": "code",
   "execution_count": null,
   "metadata": {},
   "outputs": [],
   "source": [
    "# 별점 추출\n",
    "ratings = []\n",
    "################################\n",
    "# rating_containers = \n",
    "################################\n",
    "\n",
    "# 각 리뷰별로 별점 계산\n",
    "for container in rating_containers:\n",
    "    ################################\n",
    "    ######## your code here ########\n",
    "    ################################\n",
    "    \n",
    "    ratings.append(rating)\n",
    "\n",
    "ratings"
   ]
  },
  {
   "cell_type": "markdown",
   "metadata": {},
   "source": [
    "### 5단계: 데이터 정리 및 DataFrame으로 변환\n",
    "수집된 데이터를 Pandas DataFrame으로 변환하여 후속 분석을 용이하게 만듭니다."
   ]
  },
  {
   "cell_type": "code",
   "execution_count": null,
   "metadata": {},
   "outputs": [],
   "source": [
    "import pandas as pd\n",
    "\n",
    "# 별점과 리뷰를 결합하여 리스트 생성\n",
    "data = list(zip(ratings, reviews))\n",
    "\n",
    "# DataFrame으로 변환\n",
    "df_reviews = pd.DataFrame(data, columns=['Rating', 'Review'])\n",
    "df_reviews"
   ]
  },
  {
   "cell_type": "markdown",
   "metadata": {},
   "source": [
    "### 6단계: 리뷰 분석 - 평균 별점 계산\n",
    "수집된 리뷰에서 평균 별점을 계산합니다."
   ]
  },
  {
   "cell_type": "code",
   "execution_count": null,
   "metadata": {},
   "outputs": [],
   "source": [
    "# 평균 별점 계산\n",
    "# average_rating = "
   ]
  },
  {
   "cell_type": "markdown",
   "metadata": {},
   "source": [
    "### 7단계: 자주 등장하는 단어 추출\n",
    "리뷰 텍스트에서 자주 등장하는 단어를 추출하고, 불용어를 제거하여 분석합니다."
   ]
  },
  {
   "cell_type": "code",
   "execution_count": null,
   "metadata": {},
   "outputs": [],
   "source": [
    "from collections import Counter\n",
    "import re\n",
    "\n",
    "# 불용어 리스트 (한국어)\n",
    "korean_stopwords = set(['이', '그', '저', '것', '들', '다', '을', '를', '에', '의', '가', '이', '는', '해', '한', '하', '하고', '에서', '에게', '과', '와', '너무', '잘', '또','좀', '호텔', '아주', '진짜', '정말'])\n",
    "\n",
    "# 모든 리뷰를 하나의 문자열로 결합\n",
    "# all_reviews_text = \n",
    "\n",
    "# 단어 추출 (특수문자 제거)\n",
    "# words = \n",
    "\n",
    "# 불용어 제거\n",
    "# filtered_words = \n",
    "\n",
    "# 단어 빈도 계산\n",
    "word_counts = Counter(filtered_words)\n",
    "\n",
    "# 자주 등장하는 상위 15개 단어 추출\n",
    "common_words = word_counts.most_common(15)"
   ]
  },
  {
   "cell_type": "markdown",
   "metadata": {},
   "source": [
    "### 8단계: 분석 결과 요약\n",
    "평균 별점과 자주 등장하는 단어를 DataFrame으로 만들어 최종 분석 결과를 요약합니다."
   ]
  },
  {
   "cell_type": "code",
   "execution_count": null,
   "metadata": {},
   "outputs": [],
   "source": [
    "# 분석 결과 요약\n",
    "summary_df = pd.DataFrame({\n",
    "    'Average Rating': [average_rating],\n",
    "    'Common Words': [', '.join([f\"{word}({count})\" for word, count in common_words])]\n",
    "})\n",
    "\n",
    "# 최종 DataFrame 결합\n",
    "final_df = pd.concat([df_reviews, summary_df], ignore_index=True)\n",
    "final_df"
   ]
  },
  {
   "cell_type": "markdown",
   "metadata": {},
   "source": [
    "### 9단계: Excel 파일로 저장\n",
    "최종 결과를 Excel 파일로 저장합니다."
   ]
  },
  {
   "cell_type": "code",
   "execution_count": null,
   "metadata": {},
   "outputs": [],
   "source": [
    "# Excel 파일로 저장\n",
    "######## your code here ########"
   ]
  },
  {
   "cell_type": "markdown",
   "metadata": {},
   "source": [
    "### 10단계: 드라이버 종료\n",
    "크롤링이 끝난 후, Selenium 드라이버를 종료합니다."
   ]
  },
  {
   "cell_type": "code",
   "execution_count": 18,
   "metadata": {},
   "outputs": [],
   "source": [
    "# 드라이버 종료\n",
    "driver.quit()"
   ]
  }
 ],
 "metadata": {
  "kernelspec": {
   "display_name": "myenv",
   "language": "python",
   "name": "python3"
  },
  "language_info": {
   "codemirror_mode": {
    "name": "ipython",
    "version": 3
   },
   "file_extension": ".py",
   "mimetype": "text/x-python",
   "name": "python",
   "nbconvert_exporter": "python",
   "pygments_lexer": "ipython3",
   "version": "3.10.18"
  }
 },
 "nbformat": 4,
 "nbformat_minor": 2
}
